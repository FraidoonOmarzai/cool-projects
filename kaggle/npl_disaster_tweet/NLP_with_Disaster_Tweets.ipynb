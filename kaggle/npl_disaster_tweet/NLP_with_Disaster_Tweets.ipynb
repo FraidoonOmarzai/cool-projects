{
  "nbformat": 4,
  "nbformat_minor": 0,
  "metadata": {
    "colab": {
      "name": "NLP with Disaster Tweets.ipynb",
      "provenance": [],
      "collapsed_sections": [
        "2EnVVJyssDs8",
        "i9KpTjI-r600",
        "N2mMkBzz2maB",
        "QTkCloJzsyts",
        "1BP3cjrSw_lH",
        "X-B6J6hFiask",
        "7TDL0iG7kh3k",
        "mmC2v25nreZL",
        "2O-A5XbpvBId",
        "-ymwZFyUPVBN"
      ]
    },
    "kernelspec": {
      "name": "python3",
      "display_name": "Python 3"
    },
    "language_info": {
      "name": "python"
    },
    "accelerator": "GPU"
  },
  "cells": [
    {
      "cell_type": "markdown",
      "metadata": {
        "id": "XEAQhUG7oQ6A"
      },
      "source": [
        "# Kaggle Competition on NLP"
      ]
    },
    {
      "cell_type": "markdown",
      "metadata": {
        "id": "k1hL6Vahogv7"
      },
      "source": [
        "## Data preprocessing"
      ]
    },
    {
      "cell_type": "markdown",
      "metadata": {
        "id": "2EnVVJyssDs8"
      },
      "source": [
        "### Gather the data"
      ]
    },
    {
      "cell_type": "code",
      "metadata": {
        "id": "34EnfXDxodgi"
      },
      "source": [
        "import os \n",
        "\n",
        "os.environ['KAGGLE_CONFIG_DIR'] = '/content'"
      ],
      "execution_count": 4,
      "outputs": []
    },
    {
      "cell_type": "code",
      "metadata": {
        "colab": {
          "base_uri": "https://localhost:8080/"
        },
        "id": "J1r0f5jppIOp",
        "outputId": "8411e472-dc5f-4bbb-dfa9-343675438f65"
      },
      "source": [
        "!kaggle competitions download -c nlp-getting-started"
      ],
      "execution_count": 5,
      "outputs": [
        {
          "output_type": "stream",
          "text": [
            "Warning: Your Kaggle API key is readable by other users on this system! To fix this, you can run 'chmod 600 /content/kaggle.json'\n",
            "Warning: Looks like you're using an outdated API Version, please consider updating (server 1.5.12 / client 1.5.4)\n",
            "Downloading test.csv to /content\n",
            "  0% 0.00/411k [00:00<?, ?B/s]\n",
            "100% 411k/411k [00:00<00:00, 61.7MB/s]\n",
            "Downloading train.csv to /content\n",
            "  0% 0.00/965k [00:00<?, ?B/s]\n",
            "100% 965k/965k [00:00<00:00, 64.1MB/s]\n",
            "Downloading sample_submission.csv to /content\n",
            "  0% 0.00/22.2k [00:00<?, ?B/s]\n",
            "100% 22.2k/22.2k [00:00<00:00, 22.8MB/s]\n"
          ],
          "name": "stdout"
        }
      ]
    },
    {
      "cell_type": "code",
      "metadata": {
        "id": "j7etTj0IpTZ-"
      },
      "source": [
        "import pandas as pd\n",
        "\n",
        "train_dataset = pd.read_csv('train.csv')"
      ],
      "execution_count": 6,
      "outputs": []
    },
    {
      "cell_type": "code",
      "metadata": {
        "colab": {
          "base_uri": "https://localhost:8080/",
          "height": 204
        },
        "id": "P6Cw5YKjpTJW",
        "outputId": "93de90aa-49f2-4677-c929-92395d12e218"
      },
      "source": [
        "train_dataset.head()"
      ],
      "execution_count": 7,
      "outputs": [
        {
          "output_type": "execute_result",
          "data": {
            "text/html": [
              "<div>\n",
              "<style scoped>\n",
              "    .dataframe tbody tr th:only-of-type {\n",
              "        vertical-align: middle;\n",
              "    }\n",
              "\n",
              "    .dataframe tbody tr th {\n",
              "        vertical-align: top;\n",
              "    }\n",
              "\n",
              "    .dataframe thead th {\n",
              "        text-align: right;\n",
              "    }\n",
              "</style>\n",
              "<table border=\"1\" class=\"dataframe\">\n",
              "  <thead>\n",
              "    <tr style=\"text-align: right;\">\n",
              "      <th></th>\n",
              "      <th>id</th>\n",
              "      <th>keyword</th>\n",
              "      <th>location</th>\n",
              "      <th>text</th>\n",
              "      <th>target</th>\n",
              "    </tr>\n",
              "  </thead>\n",
              "  <tbody>\n",
              "    <tr>\n",
              "      <th>0</th>\n",
              "      <td>1</td>\n",
              "      <td>NaN</td>\n",
              "      <td>NaN</td>\n",
              "      <td>Our Deeds are the Reason of this #earthquake M...</td>\n",
              "      <td>1</td>\n",
              "    </tr>\n",
              "    <tr>\n",
              "      <th>1</th>\n",
              "      <td>4</td>\n",
              "      <td>NaN</td>\n",
              "      <td>NaN</td>\n",
              "      <td>Forest fire near La Ronge Sask. Canada</td>\n",
              "      <td>1</td>\n",
              "    </tr>\n",
              "    <tr>\n",
              "      <th>2</th>\n",
              "      <td>5</td>\n",
              "      <td>NaN</td>\n",
              "      <td>NaN</td>\n",
              "      <td>All residents asked to 'shelter in place' are ...</td>\n",
              "      <td>1</td>\n",
              "    </tr>\n",
              "    <tr>\n",
              "      <th>3</th>\n",
              "      <td>6</td>\n",
              "      <td>NaN</td>\n",
              "      <td>NaN</td>\n",
              "      <td>13,000 people receive #wildfires evacuation or...</td>\n",
              "      <td>1</td>\n",
              "    </tr>\n",
              "    <tr>\n",
              "      <th>4</th>\n",
              "      <td>7</td>\n",
              "      <td>NaN</td>\n",
              "      <td>NaN</td>\n",
              "      <td>Just got sent this photo from Ruby #Alaska as ...</td>\n",
              "      <td>1</td>\n",
              "    </tr>\n",
              "  </tbody>\n",
              "</table>\n",
              "</div>"
            ],
            "text/plain": [
              "   id keyword  ...                                               text target\n",
              "0   1     NaN  ...  Our Deeds are the Reason of this #earthquake M...      1\n",
              "1   4     NaN  ...             Forest fire near La Ronge Sask. Canada      1\n",
              "2   5     NaN  ...  All residents asked to 'shelter in place' are ...      1\n",
              "3   6     NaN  ...  13,000 people receive #wildfires evacuation or...      1\n",
              "4   7     NaN  ...  Just got sent this photo from Ruby #Alaska as ...      1\n",
              "\n",
              "[5 rows x 5 columns]"
            ]
          },
          "metadata": {
            "tags": []
          },
          "execution_count": 7
        }
      ]
    },
    {
      "cell_type": "markdown",
      "metadata": {
        "id": "i9KpTjI-r600"
      },
      "source": [
        "### Data preprocessing"
      ]
    },
    {
      "cell_type": "code",
      "metadata": {
        "colab": {
          "base_uri": "https://localhost:8080/"
        },
        "id": "STjIzIAqpS1g",
        "outputId": "63c4ae4a-ea13-477d-926a-217d6067a787"
      },
      "source": [
        "train_dataset.isnull().sum()"
      ],
      "execution_count": 8,
      "outputs": [
        {
          "output_type": "execute_result",
          "data": {
            "text/plain": [
              "id             0\n",
              "keyword       61\n",
              "location    2533\n",
              "text           0\n",
              "target         0\n",
              "dtype: int64"
            ]
          },
          "metadata": {
            "tags": []
          },
          "execution_count": 8
        }
      ]
    },
    {
      "cell_type": "code",
      "metadata": {
        "colab": {
          "base_uri": "https://localhost:8080/"
        },
        "id": "DMQWEg08quta",
        "outputId": "e6f4dcf8-682f-4a99-f61f-6c5b97d695c1"
      },
      "source": [
        "train_dataset['keyword'].value_counts()"
      ],
      "execution_count": 9,
      "outputs": [
        {
          "output_type": "execute_result",
          "data": {
            "text/plain": [
              "fatalities               45\n",
              "deluge                   42\n",
              "armageddon               42\n",
              "damage                   41\n",
              "body%20bags              41\n",
              "                         ..\n",
              "forest%20fire            19\n",
              "epicentre                12\n",
              "threat                   11\n",
              "inundation               10\n",
              "radiation%20emergency     9\n",
              "Name: keyword, Length: 221, dtype: int64"
            ]
          },
          "metadata": {
            "tags": []
          },
          "execution_count": 9
        }
      ]
    },
    {
      "cell_type": "code",
      "metadata": {
        "colab": {
          "base_uri": "https://localhost:8080/"
        },
        "id": "btJ5D5WvpK_k",
        "outputId": "dd3ce7da-71b4-485d-db33-5267f8c39dcc"
      },
      "source": [
        "len(train_dataset)"
      ],
      "execution_count": 10,
      "outputs": [
        {
          "output_type": "execute_result",
          "data": {
            "text/plain": [
              "7613"
            ]
          },
          "metadata": {
            "tags": []
          },
          "execution_count": 10
        }
      ]
    },
    {
      "cell_type": "code",
      "metadata": {
        "id": "fmcWVGaozRcv"
      },
      "source": [
        "train_dataset = train_dataset.drop(['id','location'], axis=1)"
      ],
      "execution_count": 11,
      "outputs": []
    },
    {
      "cell_type": "code",
      "metadata": {
        "colab": {
          "base_uri": "https://localhost:8080/",
          "height": 0
        },
        "id": "53YcuNagzgtU",
        "outputId": "ad07d553-e42a-4306-9136-5108e931001a"
      },
      "source": [
        "train_dataset.head()"
      ],
      "execution_count": 12,
      "outputs": [
        {
          "output_type": "execute_result",
          "data": {
            "text/html": [
              "<div>\n",
              "<style scoped>\n",
              "    .dataframe tbody tr th:only-of-type {\n",
              "        vertical-align: middle;\n",
              "    }\n",
              "\n",
              "    .dataframe tbody tr th {\n",
              "        vertical-align: top;\n",
              "    }\n",
              "\n",
              "    .dataframe thead th {\n",
              "        text-align: right;\n",
              "    }\n",
              "</style>\n",
              "<table border=\"1\" class=\"dataframe\">\n",
              "  <thead>\n",
              "    <tr style=\"text-align: right;\">\n",
              "      <th></th>\n",
              "      <th>keyword</th>\n",
              "      <th>text</th>\n",
              "      <th>target</th>\n",
              "    </tr>\n",
              "  </thead>\n",
              "  <tbody>\n",
              "    <tr>\n",
              "      <th>0</th>\n",
              "      <td>NaN</td>\n",
              "      <td>Our Deeds are the Reason of this #earthquake M...</td>\n",
              "      <td>1</td>\n",
              "    </tr>\n",
              "    <tr>\n",
              "      <th>1</th>\n",
              "      <td>NaN</td>\n",
              "      <td>Forest fire near La Ronge Sask. Canada</td>\n",
              "      <td>1</td>\n",
              "    </tr>\n",
              "    <tr>\n",
              "      <th>2</th>\n",
              "      <td>NaN</td>\n",
              "      <td>All residents asked to 'shelter in place' are ...</td>\n",
              "      <td>1</td>\n",
              "    </tr>\n",
              "    <tr>\n",
              "      <th>3</th>\n",
              "      <td>NaN</td>\n",
              "      <td>13,000 people receive #wildfires evacuation or...</td>\n",
              "      <td>1</td>\n",
              "    </tr>\n",
              "    <tr>\n",
              "      <th>4</th>\n",
              "      <td>NaN</td>\n",
              "      <td>Just got sent this photo from Ruby #Alaska as ...</td>\n",
              "      <td>1</td>\n",
              "    </tr>\n",
              "  </tbody>\n",
              "</table>\n",
              "</div>"
            ],
            "text/plain": [
              "  keyword                                               text  target\n",
              "0     NaN  Our Deeds are the Reason of this #earthquake M...       1\n",
              "1     NaN             Forest fire near La Ronge Sask. Canada       1\n",
              "2     NaN  All residents asked to 'shelter in place' are ...       1\n",
              "3     NaN  13,000 people receive #wildfires evacuation or...       1\n",
              "4     NaN  Just got sent this photo from Ruby #Alaska as ...       1"
            ]
          },
          "metadata": {
            "tags": []
          },
          "execution_count": 12
        }
      ]
    },
    {
      "cell_type": "code",
      "metadata": {
        "id": "UPntAsQ5xWAc"
      },
      "source": [
        "train_dataset = train_dataset.dropna()"
      ],
      "execution_count": 13,
      "outputs": []
    },
    {
      "cell_type": "code",
      "metadata": {
        "colab": {
          "base_uri": "https://localhost:8080/",
          "height": 0
        },
        "id": "CIVn290jyylx",
        "outputId": "f5201424-6f96-420c-b7d0-bcc11f7dd2c1"
      },
      "source": [
        "train_dataset.head()"
      ],
      "execution_count": 14,
      "outputs": [
        {
          "output_type": "execute_result",
          "data": {
            "text/html": [
              "<div>\n",
              "<style scoped>\n",
              "    .dataframe tbody tr th:only-of-type {\n",
              "        vertical-align: middle;\n",
              "    }\n",
              "\n",
              "    .dataframe tbody tr th {\n",
              "        vertical-align: top;\n",
              "    }\n",
              "\n",
              "    .dataframe thead th {\n",
              "        text-align: right;\n",
              "    }\n",
              "</style>\n",
              "<table border=\"1\" class=\"dataframe\">\n",
              "  <thead>\n",
              "    <tr style=\"text-align: right;\">\n",
              "      <th></th>\n",
              "      <th>keyword</th>\n",
              "      <th>text</th>\n",
              "      <th>target</th>\n",
              "    </tr>\n",
              "  </thead>\n",
              "  <tbody>\n",
              "    <tr>\n",
              "      <th>31</th>\n",
              "      <td>ablaze</td>\n",
              "      <td>@bbcmtd Wholesale Markets ablaze http://t.co/l...</td>\n",
              "      <td>1</td>\n",
              "    </tr>\n",
              "    <tr>\n",
              "      <th>32</th>\n",
              "      <td>ablaze</td>\n",
              "      <td>We always try to bring the heavy. #metal #RT h...</td>\n",
              "      <td>0</td>\n",
              "    </tr>\n",
              "    <tr>\n",
              "      <th>33</th>\n",
              "      <td>ablaze</td>\n",
              "      <td>#AFRICANBAZE: Breaking news:Nigeria flag set a...</td>\n",
              "      <td>1</td>\n",
              "    </tr>\n",
              "    <tr>\n",
              "      <th>34</th>\n",
              "      <td>ablaze</td>\n",
              "      <td>Crying out for more! Set me ablaze</td>\n",
              "      <td>0</td>\n",
              "    </tr>\n",
              "    <tr>\n",
              "      <th>35</th>\n",
              "      <td>ablaze</td>\n",
              "      <td>On plus side LOOK AT THE SKY LAST NIGHT IT WAS...</td>\n",
              "      <td>0</td>\n",
              "    </tr>\n",
              "  </tbody>\n",
              "</table>\n",
              "</div>"
            ],
            "text/plain": [
              "   keyword                                               text  target\n",
              "31  ablaze  @bbcmtd Wholesale Markets ablaze http://t.co/l...       1\n",
              "32  ablaze  We always try to bring the heavy. #metal #RT h...       0\n",
              "33  ablaze  #AFRICANBAZE: Breaking news:Nigeria flag set a...       1\n",
              "34  ablaze                 Crying out for more! Set me ablaze       0\n",
              "35  ablaze  On plus side LOOK AT THE SKY LAST NIGHT IT WAS...       0"
            ]
          },
          "metadata": {
            "tags": []
          },
          "execution_count": 14
        }
      ]
    },
    {
      "cell_type": "code",
      "metadata": {
        "colab": {
          "base_uri": "https://localhost:8080/"
        },
        "id": "VRrc8Wm5z3C7",
        "outputId": "81d8a8e5-e978-4305-e6b4-f984cc6c9227"
      },
      "source": [
        "len(train_dataset)"
      ],
      "execution_count": 15,
      "outputs": [
        {
          "output_type": "execute_result",
          "data": {
            "text/plain": [
              "7552"
            ]
          },
          "metadata": {
            "tags": []
          },
          "execution_count": 15
        }
      ]
    },
    {
      "cell_type": "code",
      "metadata": {
        "colab": {
          "base_uri": "https://localhost:8080/"
        },
        "id": "ksrb4JkuvDlQ",
        "outputId": "cc12ddd8-309c-48a0-d619-af16f6ce8098"
      },
      "source": [
        "# check for any empty text in dataset\n",
        "(train_dataset.text.str.len() == 0).any()"
      ],
      "execution_count": 16,
      "outputs": [
        {
          "output_type": "execute_result",
          "data": {
            "text/plain": [
              "False"
            ]
          },
          "metadata": {
            "tags": []
          },
          "execution_count": 16
        }
      ]
    },
    {
      "cell_type": "code",
      "metadata": {
        "colab": {
          "base_uri": "https://localhost:8080/"
        },
        "id": "fGkB2VFqyX6s",
        "outputId": "33e76821-f3b7-467a-c214-83be360acc35"
      },
      "source": [
        "train_dataset.isnull().sum()"
      ],
      "execution_count": 17,
      "outputs": [
        {
          "output_type": "execute_result",
          "data": {
            "text/plain": [
              "keyword    0\n",
              "text       0\n",
              "target     0\n",
              "dtype: int64"
            ]
          },
          "metadata": {
            "tags": []
          },
          "execution_count": 17
        }
      ]
    },
    {
      "cell_type": "code",
      "metadata": {
        "colab": {
          "base_uri": "https://localhost:8080/"
        },
        "id": "kW3jn9Peq1az",
        "outputId": "4c6fdbbe-6fa5-4827-eabb-cf023f9e6ce8"
      },
      "source": [
        "train_dataset['target'].value_counts()"
      ],
      "execution_count": 18,
      "outputs": [
        {
          "output_type": "execute_result",
          "data": {
            "text/plain": [
              "0    4323\n",
              "1    3229\n",
              "Name: target, dtype: int64"
            ]
          },
          "metadata": {
            "tags": []
          },
          "execution_count": 18
        }
      ]
    },
    {
      "cell_type": "code",
      "metadata": {
        "id": "mbEXDnQ41SWz"
      },
      "source": [
        "test_set = train_dataset"
      ],
      "execution_count": 19,
      "outputs": []
    },
    {
      "cell_type": "code",
      "metadata": {
        "colab": {
          "base_uri": "https://localhost:8080/",
          "height": 0
        },
        "id": "Su7Un_uu1tmi",
        "outputId": "8876669c-d75a-4827-a181-c601a18e7a4b"
      },
      "source": [
        "test_set.head()"
      ],
      "execution_count": 20,
      "outputs": [
        {
          "output_type": "execute_result",
          "data": {
            "text/html": [
              "<div>\n",
              "<style scoped>\n",
              "    .dataframe tbody tr th:only-of-type {\n",
              "        vertical-align: middle;\n",
              "    }\n",
              "\n",
              "    .dataframe tbody tr th {\n",
              "        vertical-align: top;\n",
              "    }\n",
              "\n",
              "    .dataframe thead th {\n",
              "        text-align: right;\n",
              "    }\n",
              "</style>\n",
              "<table border=\"1\" class=\"dataframe\">\n",
              "  <thead>\n",
              "    <tr style=\"text-align: right;\">\n",
              "      <th></th>\n",
              "      <th>keyword</th>\n",
              "      <th>text</th>\n",
              "      <th>target</th>\n",
              "    </tr>\n",
              "  </thead>\n",
              "  <tbody>\n",
              "    <tr>\n",
              "      <th>31</th>\n",
              "      <td>ablaze</td>\n",
              "      <td>@bbcmtd Wholesale Markets ablaze http://t.co/l...</td>\n",
              "      <td>1</td>\n",
              "    </tr>\n",
              "    <tr>\n",
              "      <th>32</th>\n",
              "      <td>ablaze</td>\n",
              "      <td>We always try to bring the heavy. #metal #RT h...</td>\n",
              "      <td>0</td>\n",
              "    </tr>\n",
              "    <tr>\n",
              "      <th>33</th>\n",
              "      <td>ablaze</td>\n",
              "      <td>#AFRICANBAZE: Breaking news:Nigeria flag set a...</td>\n",
              "      <td>1</td>\n",
              "    </tr>\n",
              "    <tr>\n",
              "      <th>34</th>\n",
              "      <td>ablaze</td>\n",
              "      <td>Crying out for more! Set me ablaze</td>\n",
              "      <td>0</td>\n",
              "    </tr>\n",
              "    <tr>\n",
              "      <th>35</th>\n",
              "      <td>ablaze</td>\n",
              "      <td>On plus side LOOK AT THE SKY LAST NIGHT IT WAS...</td>\n",
              "      <td>0</td>\n",
              "    </tr>\n",
              "  </tbody>\n",
              "</table>\n",
              "</div>"
            ],
            "text/plain": [
              "   keyword                                               text  target\n",
              "31  ablaze  @bbcmtd Wholesale Markets ablaze http://t.co/l...       1\n",
              "32  ablaze  We always try to bring the heavy. #metal #RT h...       0\n",
              "33  ablaze  #AFRICANBAZE: Breaking news:Nigeria flag set a...       1\n",
              "34  ablaze                 Crying out for more! Set me ablaze       0\n",
              "35  ablaze  On plus side LOOK AT THE SKY LAST NIGHT IT WAS...       0"
            ]
          },
          "metadata": {
            "tags": []
          },
          "execution_count": 20
        }
      ]
    },
    {
      "cell_type": "markdown",
      "metadata": {
        "id": "N2mMkBzz2maB"
      },
      "source": [
        "### Test data preprocessing"
      ]
    },
    {
      "cell_type": "code",
      "metadata": {
        "colab": {
          "base_uri": "https://localhost:8080/",
          "height": 0
        },
        "id": "vp57XQNe2q2p",
        "outputId": "7685c9c7-9944-4ab8-c4c6-da2002ac788c"
      },
      "source": [
        "test_csv = pd.read_csv('test.csv')\n",
        "test_csv.head()"
      ],
      "execution_count": 21,
      "outputs": [
        {
          "output_type": "execute_result",
          "data": {
            "text/html": [
              "<div>\n",
              "<style scoped>\n",
              "    .dataframe tbody tr th:only-of-type {\n",
              "        vertical-align: middle;\n",
              "    }\n",
              "\n",
              "    .dataframe tbody tr th {\n",
              "        vertical-align: top;\n",
              "    }\n",
              "\n",
              "    .dataframe thead th {\n",
              "        text-align: right;\n",
              "    }\n",
              "</style>\n",
              "<table border=\"1\" class=\"dataframe\">\n",
              "  <thead>\n",
              "    <tr style=\"text-align: right;\">\n",
              "      <th></th>\n",
              "      <th>id</th>\n",
              "      <th>keyword</th>\n",
              "      <th>location</th>\n",
              "      <th>text</th>\n",
              "    </tr>\n",
              "  </thead>\n",
              "  <tbody>\n",
              "    <tr>\n",
              "      <th>0</th>\n",
              "      <td>0</td>\n",
              "      <td>NaN</td>\n",
              "      <td>NaN</td>\n",
              "      <td>Just happened a terrible car crash</td>\n",
              "    </tr>\n",
              "    <tr>\n",
              "      <th>1</th>\n",
              "      <td>2</td>\n",
              "      <td>NaN</td>\n",
              "      <td>NaN</td>\n",
              "      <td>Heard about #earthquake is different cities, s...</td>\n",
              "    </tr>\n",
              "    <tr>\n",
              "      <th>2</th>\n",
              "      <td>3</td>\n",
              "      <td>NaN</td>\n",
              "      <td>NaN</td>\n",
              "      <td>there is a forest fire at spot pond, geese are...</td>\n",
              "    </tr>\n",
              "    <tr>\n",
              "      <th>3</th>\n",
              "      <td>9</td>\n",
              "      <td>NaN</td>\n",
              "      <td>NaN</td>\n",
              "      <td>Apocalypse lighting. #Spokane #wildfires</td>\n",
              "    </tr>\n",
              "    <tr>\n",
              "      <th>4</th>\n",
              "      <td>11</td>\n",
              "      <td>NaN</td>\n",
              "      <td>NaN</td>\n",
              "      <td>Typhoon Soudelor kills 28 in China and Taiwan</td>\n",
              "    </tr>\n",
              "  </tbody>\n",
              "</table>\n",
              "</div>"
            ],
            "text/plain": [
              "   id keyword location                                               text\n",
              "0   0     NaN      NaN                 Just happened a terrible car crash\n",
              "1   2     NaN      NaN  Heard about #earthquake is different cities, s...\n",
              "2   3     NaN      NaN  there is a forest fire at spot pond, geese are...\n",
              "3   9     NaN      NaN           Apocalypse lighting. #Spokane #wildfires\n",
              "4  11     NaN      NaN      Typhoon Soudelor kills 28 in China and Taiwan"
            ]
          },
          "metadata": {
            "tags": []
          },
          "execution_count": 21
        }
      ]
    },
    {
      "cell_type": "code",
      "metadata": {
        "id": "Mv9oLdgX21Bu"
      },
      "source": [
        "test_csv_text = test_csv['text']"
      ],
      "execution_count": 22,
      "outputs": []
    },
    {
      "cell_type": "code",
      "metadata": {
        "colab": {
          "base_uri": "https://localhost:8080/"
        },
        "id": "8sIlRu2E21jk",
        "outputId": "186bc57c-87a0-4de3-b105-5eefd44d31f2"
      },
      "source": [
        "test_csv_text.head()"
      ],
      "execution_count": 23,
      "outputs": [
        {
          "output_type": "execute_result",
          "data": {
            "text/plain": [
              "0                   Just happened a terrible car crash\n",
              "1    Heard about #earthquake is different cities, s...\n",
              "2    there is a forest fire at spot pond, geese are...\n",
              "3             Apocalypse lighting. #Spokane #wildfires\n",
              "4        Typhoon Soudelor kills 28 in China and Taiwan\n",
              "Name: text, dtype: object"
            ]
          },
          "metadata": {
            "tags": []
          },
          "execution_count": 23
        }
      ]
    },
    {
      "cell_type": "markdown",
      "metadata": {
        "id": "QTkCloJzsyts"
      },
      "source": [
        "### split the dataset"
      ]
    },
    {
      "cell_type": "code",
      "metadata": {
        "id": "JUfQ-akysuQu"
      },
      "source": [
        "from sklearn.model_selection import train_test_split\n",
        "import numpy as np\n",
        "\n",
        "X_train, X_test, y_train, y_test = train_test_split(test_set['text'].to_numpy(),\n",
        "                                                    test_set['target'].to_numpy(),\n",
        "                                                    test_size=0.1,\n",
        "                                                    random_state=42)\n",
        "# \n",
        "                                                    # "
      ],
      "execution_count": 24,
      "outputs": []
    },
    {
      "cell_type": "code",
      "metadata": {
        "colab": {
          "base_uri": "https://localhost:8080/"
        },
        "id": "y3-debd_tvl4",
        "outputId": "d9ab722f-8e53-48a9-cef3-dc8bb7b1e5e0"
      },
      "source": [
        "len(X_train), len(X_test), len(y_train), len(y_test)"
      ],
      "execution_count": 25,
      "outputs": [
        {
          "output_type": "execute_result",
          "data": {
            "text/plain": [
              "(6796, 756, 6796, 756)"
            ]
          },
          "metadata": {
            "tags": []
          },
          "execution_count": 25
        }
      ]
    },
    {
      "cell_type": "markdown",
      "metadata": {
        "id": "GEjSZOUfve-x"
      },
      "source": [
        "## Train the model"
      ]
    },
    {
      "cell_type": "markdown",
      "metadata": {
        "id": "1BP3cjrSw_lH"
      },
      "source": [
        "### Naive Bayes (got 79.25)"
      ]
    },
    {
      "cell_type": "code",
      "metadata": {
        "colab": {
          "base_uri": "https://localhost:8080/"
        },
        "id": "QuPXBzqCt-8u",
        "outputId": "f2fdb033-e87d-44a0-9fd8-12933ffea01f"
      },
      "source": [
        "from sklearn.pipeline import Pipeline\n",
        "from sklearn.feature_extraction.text import TfidfVectorizer\n",
        "from sklearn.naive_bayes import MultinomialNB\n",
        "\n",
        "model_pipeline = Pipeline([\n",
        "                           ('tfidf', TfidfVectorizer()),\n",
        "                           ('cls', MultinomialNB())\n",
        "                           ])\n",
        "model_pipeline.fit(X_train, y_train)"
      ],
      "execution_count": 26,
      "outputs": [
        {
          "output_type": "execute_result",
          "data": {
            "text/plain": [
              "Pipeline(memory=None,\n",
              "         steps=[('tfidf',\n",
              "                 TfidfVectorizer(analyzer='word', binary=False,\n",
              "                                 decode_error='strict',\n",
              "                                 dtype=<class 'numpy.float64'>,\n",
              "                                 encoding='utf-8', input='content',\n",
              "                                 lowercase=True, max_df=1.0, max_features=None,\n",
              "                                 min_df=1, ngram_range=(1, 1), norm='l2',\n",
              "                                 preprocessor=None, smooth_idf=True,\n",
              "                                 stop_words=None, strip_accents=None,\n",
              "                                 sublinear_tf=False,\n",
              "                                 token_pattern='(?u)\\\\b\\\\w\\\\w+\\\\b',\n",
              "                                 tokenizer=None, use_idf=True,\n",
              "                                 vocabulary=None)),\n",
              "                ('cls',\n",
              "                 MultinomialNB(alpha=1.0, class_prior=None, fit_prior=True))],\n",
              "         verbose=False)"
            ]
          },
          "metadata": {
            "tags": []
          },
          "execution_count": 26
        }
      ]
    },
    {
      "cell_type": "code",
      "metadata": {
        "colab": {
          "base_uri": "https://localhost:8080/"
        },
        "id": "9yKir9FZwmRb",
        "outputId": "a50809b7-d6a4-47b5-d07d-207c2515436c"
      },
      "source": [
        "pred_y = model_pipeline.predict(X_test)\n",
        "pred_y.shape, y_test.shape"
      ],
      "execution_count": 27,
      "outputs": [
        {
          "output_type": "execute_result",
          "data": {
            "text/plain": [
              "((756,), (756,))"
            ]
          },
          "metadata": {
            "tags": []
          },
          "execution_count": 27
        }
      ]
    },
    {
      "cell_type": "code",
      "metadata": {
        "colab": {
          "base_uri": "https://localhost:8080/"
        },
        "id": "QlSI9NfAuTpM",
        "outputId": "7e32058f-b41f-48d5-a9c1-9f44e470a74c"
      },
      "source": [
        "from sklearn.metrics import accuracy_score\n",
        "\n",
        "accuracy_score(y_test, pred_y)"
      ],
      "execution_count": 28,
      "outputs": [
        {
          "output_type": "execute_result",
          "data": {
            "text/plain": [
              "0.8042328042328042"
            ]
          },
          "metadata": {
            "tags": []
          },
          "execution_count": 28
        }
      ]
    },
    {
      "cell_type": "markdown",
      "metadata": {
        "id": "ziossI9r3QfH"
      },
      "source": [
        "#### prediction on test_csv"
      ]
    },
    {
      "cell_type": "code",
      "metadata": {
        "id": "Veh8bOrd2Zrs"
      },
      "source": [
        "pred_text_csv = model_pipeline.predict(test_csv_text)"
      ],
      "execution_count": 29,
      "outputs": []
    },
    {
      "cell_type": "code",
      "metadata": {
        "colab": {
          "base_uri": "https://localhost:8080/"
        },
        "id": "0QSjMZe63eRV",
        "outputId": "45057f2e-e732-4594-ce18-037fca15f641"
      },
      "source": [
        "pred_text_csv.shape"
      ],
      "execution_count": 30,
      "outputs": [
        {
          "output_type": "execute_result",
          "data": {
            "text/plain": [
              "(3263,)"
            ]
          },
          "metadata": {
            "tags": []
          },
          "execution_count": 30
        }
      ]
    },
    {
      "cell_type": "code",
      "metadata": {
        "id": "uQMO2zRF3dpP"
      },
      "source": [
        "submission = pd.DataFrame({\n",
        "        \"id\": test_csv['id'],\n",
        "        \"target\": pred_text_csv\n",
        "    })"
      ],
      "execution_count": 31,
      "outputs": []
    },
    {
      "cell_type": "code",
      "metadata": {
        "colab": {
          "base_uri": "https://localhost:8080/",
          "height": 204
        },
        "id": "xAVV6ReL4LOJ",
        "outputId": "1ec13727-2bed-47be-a11b-5bf88ef3282d"
      },
      "source": [
        "submission.head()"
      ],
      "execution_count": 32,
      "outputs": [
        {
          "output_type": "execute_result",
          "data": {
            "text/html": [
              "<div>\n",
              "<style scoped>\n",
              "    .dataframe tbody tr th:only-of-type {\n",
              "        vertical-align: middle;\n",
              "    }\n",
              "\n",
              "    .dataframe tbody tr th {\n",
              "        vertical-align: top;\n",
              "    }\n",
              "\n",
              "    .dataframe thead th {\n",
              "        text-align: right;\n",
              "    }\n",
              "</style>\n",
              "<table border=\"1\" class=\"dataframe\">\n",
              "  <thead>\n",
              "    <tr style=\"text-align: right;\">\n",
              "      <th></th>\n",
              "      <th>id</th>\n",
              "      <th>target</th>\n",
              "    </tr>\n",
              "  </thead>\n",
              "  <tbody>\n",
              "    <tr>\n",
              "      <th>0</th>\n",
              "      <td>0</td>\n",
              "      <td>0</td>\n",
              "    </tr>\n",
              "    <tr>\n",
              "      <th>1</th>\n",
              "      <td>2</td>\n",
              "      <td>0</td>\n",
              "    </tr>\n",
              "    <tr>\n",
              "      <th>2</th>\n",
              "      <td>3</td>\n",
              "      <td>1</td>\n",
              "    </tr>\n",
              "    <tr>\n",
              "      <th>3</th>\n",
              "      <td>9</td>\n",
              "      <td>1</td>\n",
              "    </tr>\n",
              "    <tr>\n",
              "      <th>4</th>\n",
              "      <td>11</td>\n",
              "      <td>1</td>\n",
              "    </tr>\n",
              "  </tbody>\n",
              "</table>\n",
              "</div>"
            ],
            "text/plain": [
              "   id  target\n",
              "0   0       0\n",
              "1   2       0\n",
              "2   3       1\n",
              "3   9       1\n",
              "4  11       1"
            ]
          },
          "metadata": {
            "tags": []
          },
          "execution_count": 32
        }
      ]
    },
    {
      "cell_type": "code",
      "metadata": {
        "id": "piLX1aKn4K9O"
      },
      "source": [
        "submission.to_csv('sub1.csv',index=False)"
      ],
      "execution_count": 33,
      "outputs": []
    },
    {
      "cell_type": "markdown",
      "metadata": {
        "id": "rbBF9OvD14vh"
      },
      "source": [
        "## NN\n",
        "\n",
        "* Get the data\n",
        "\n",
        "* Convert text into number (tokenization and embadding)\n",
        "\n",
        "* Bulild and train the the model"
      ]
    },
    {
      "cell_type": "code",
      "metadata": {
        "id": "bLzZQgYQ13ww"
      },
      "source": [
        "import tensorflow as tf \n",
        "from tensorflow.keras import layers\n",
        "from tensorflow.keras.layers.experimental.preprocessing import TextVectorization"
      ],
      "execution_count": 34,
      "outputs": []
    },
    {
      "cell_type": "markdown",
      "metadata": {
        "id": "X-B6J6hFiask"
      },
      "source": [
        "### TextVectorization and Embedding"
      ]
    },
    {
      "cell_type": "code",
      "metadata": {
        "colab": {
          "base_uri": "https://localhost:8080/"
        },
        "id": "h4G1fOoJhaiQ",
        "outputId": "af50debe-b003-427f-b1de-c62bfc766cdc"
      },
      "source": [
        "# Find average number of tokens (words) in training Tweets\n",
        "round(sum([len(i.split()) for i in X_train])/len(X_train))"
      ],
      "execution_count": 35,
      "outputs": [
        {
          "output_type": "execute_result",
          "data": {
            "text/plain": [
              "15"
            ]
          },
          "metadata": {
            "tags": []
          },
          "execution_count": 35
        }
      ]
    },
    {
      "cell_type": "code",
      "metadata": {
        "id": "WSKOUOJrw34r"
      },
      "source": [
        "# Setup text vectorization variables\n",
        "max_vocab_length = 10000 # max number of words to have in our vocabulary\n",
        "max_length = 15 # max length our sequences will be (e.g. how many words from a Tweet does our model see?)\n",
        "\n",
        "\n",
        "text_vectorizer = TextVectorization(max_tokens=max_vocab_length, # how many words in the vocabulary\n",
        "                                    standardize=\"lower_and_strip_punctuation\", # how to process text\n",
        "                                    split=\"whitespace\", # how to split tokens\n",
        "                                    ngrams=None, # create groups of n-words?\n",
        "                                    output_mode=\"int\", # how to map tokens to numbers\n",
        "                                    output_sequence_length=max_length) # how long should the output sequence of tokens be?"
      ],
      "execution_count": 36,
      "outputs": []
    },
    {
      "cell_type": "code",
      "metadata": {
        "id": "sCVazggfhnkw"
      },
      "source": [
        "# Fit the text vectorizer to the training text\n",
        "text_vectorizer.adapt(X_train)"
      ],
      "execution_count": 37,
      "outputs": []
    },
    {
      "cell_type": "code",
      "metadata": {
        "colab": {
          "base_uri": "https://localhost:8080/"
        },
        "id": "sKJ13V3whwh1",
        "outputId": "791990a0-b7c7-4084-ea79-2d4f4270c545"
      },
      "source": [
        "# example\n",
        "sample_sentence = \"I want to do my master degree in Canada specialization on deep learning\"\n",
        "text_vectorizer([sample_sentence])"
      ],
      "execution_count": 38,
      "outputs": [
        {
          "output_type": "execute_result",
          "data": {
            "text/plain": [
              "<tf.Tensor: shape=(1, 15), dtype=int64, numpy=\n",
              "array([[   8,  139,    5,   68,   13,    1, 2512,    4, 1421,    1,   11,\n",
              "        1136, 1824,    0,    0]])>"
            ]
          },
          "metadata": {
            "tags": []
          },
          "execution_count": 38
        }
      ]
    },
    {
      "cell_type": "code",
      "metadata": {
        "colab": {
          "base_uri": "https://localhost:8080/"
        },
        "id": "sjkVaxwpiHz3",
        "outputId": "41b7ec7e-ebcf-4df1-c3da-4caf8a7f9549"
      },
      "source": [
        "# Get the unique words in the vocabulary\n",
        "words_in_vocab = text_vectorizer.get_vocabulary()\n",
        "top_5_words = words_in_vocab[:5] # most common tokens (notice the [UNK] token for \"unknown\" words)\n",
        "bottom_5_words = words_in_vocab[-5:] # least common tokens\n",
        "print(f\"Number of words in vocab: {len(words_in_vocab)}\")\n",
        "print(f\"Top 5 most common words: {top_5_words}\") \n",
        "print(f\"Bottom 5 least common words: {bottom_5_words}\")"
      ],
      "execution_count": 39,
      "outputs": [
        {
          "output_type": "stream",
          "text": [
            "Number of words in vocab: 10000\n",
            "Top 5 most common words: ['', '[UNK]', 'the', 'a', 'in']\n",
            "Bottom 5 least common words: ['paine', 'pageshi', 'pages', 'pageparkescorp', 'pagasa']\n"
          ],
          "name": "stdout"
        }
      ]
    },
    {
      "cell_type": "code",
      "metadata": {
        "id": "EmEYdSYhiSic"
      },
      "source": [
        "embedding = layers.Embedding(input_dim=max_vocab_length,# set input shape\n",
        "                             output_dim=64,# set size of embedding vector\n",
        "                             embeddings_initializer=\"uniform\", # default, intialize randomly\n",
        "                             input_length=max_length) # how long is each input"
      ],
      "execution_count": 40,
      "outputs": []
    },
    {
      "cell_type": "code",
      "metadata": {
        "colab": {
          "base_uri": "https://localhost:8080/"
        },
        "id": "YFidv2JRjtkJ",
        "outputId": "21b50fa0-ff97-477d-c48c-5cc22f98a7d3"
      },
      "source": [
        "sample_sentence = \"I want to do my master degree in Canada specialization on deep learning\"\n",
        "embedding(text_vectorizer([sample_sentence]))"
      ],
      "execution_count": 41,
      "outputs": [
        {
          "output_type": "execute_result",
          "data": {
            "text/plain": [
              "<tf.Tensor: shape=(1, 15, 64), dtype=float32, numpy=\n",
              "array([[[-1.68423653e-02, -3.51290330e-02,  3.78157757e-02,\n",
              "         -3.74754556e-02, -4.96435761e-02, -1.44017451e-02,\n",
              "          4.19824459e-02,  4.64372747e-02, -1.79428943e-02,\n",
              "         -3.87945883e-02,  4.06533815e-02, -1.53540596e-02,\n",
              "          3.32317017e-02,  4.95226420e-02,  2.62668468e-02,\n",
              "          3.93355004e-02, -1.53685436e-02,  4.31172289e-02,\n",
              "         -4.11343798e-02, -3.00583001e-02, -4.32653688e-02,\n",
              "         -2.70847231e-03, -7.04623759e-04,  1.61798708e-02,\n",
              "          1.84569508e-03, -9.95019823e-03,  1.84730440e-03,\n",
              "         -6.23136759e-03, -3.15705091e-02,  6.14523888e-05,\n",
              "         -4.94173765e-02,  4.79557849e-02,  3.69166210e-03,\n",
              "         -2.83751134e-02,  4.60398458e-02,  4.56408747e-02,\n",
              "         -2.57733706e-02, -3.47549804e-02, -2.64267456e-02,\n",
              "         -8.67755339e-03, -1.43895522e-02,  3.02635320e-02,\n",
              "         -3.10046207e-02,  3.90521325e-02,  2.81790644e-03,\n",
              "         -6.67814165e-03, -3.48069184e-02,  1.22858174e-02,\n",
              "         -2.03085300e-02, -4.04836424e-02, -2.87696123e-02,\n",
              "         -4.64393161e-02, -4.43783663e-02,  7.73829222e-03,\n",
              "         -3.48557010e-02, -4.42165136e-03,  2.98323967e-02,\n",
              "          2.52000578e-02, -2.31900942e-02,  2.55272724e-02,\n",
              "         -1.57977231e-02, -1.35564096e-02, -3.13631296e-02,\n",
              "          2.56250836e-02],\n",
              "        [-3.39051858e-02,  2.73086317e-02, -4.76237312e-02,\n",
              "          1.31696351e-02, -3.57559435e-02, -2.69002207e-02,\n",
              "          1.19771138e-02,  1.25482418e-02,  5.09453937e-03,\n",
              "          1.53436400e-02, -3.75722274e-02,  2.82156728e-02,\n",
              "         -2.53977906e-02,  3.45777348e-03,  3.67086008e-03,\n",
              "         -1.47775523e-02,  4.07256223e-02, -2.11938266e-02,\n",
              "          5.05328178e-03, -4.37578224e-02, -2.78230906e-02,\n",
              "          2.39393376e-02, -1.54455416e-02, -4.43074480e-02,\n",
              "         -3.07634603e-02,  3.51767652e-02, -4.19945717e-02,\n",
              "          8.03742558e-03, -4.10738215e-02, -2.29206327e-02,\n",
              "         -4.18902151e-02,  1.54640526e-03, -4.23318036e-02,\n",
              "          1.17938593e-03, -2.07403302e-02, -4.36963215e-02,\n",
              "          1.38088316e-03,  2.83691995e-02,  9.03259590e-03,\n",
              "         -2.04295516e-02, -3.79365087e-02,  4.23734300e-02,\n",
              "          4.42456864e-02,  2.88667344e-02, -3.27926055e-02,\n",
              "         -3.50234285e-02,  1.24391913e-02, -2.91842576e-02,\n",
              "          3.32658403e-02,  4.31069992e-02,  1.53612159e-02,\n",
              "         -1.44530088e-04, -4.96849529e-02,  4.70496751e-02,\n",
              "         -1.17582306e-02, -1.83124468e-03,  1.42667033e-02,\n",
              "         -4.11179662e-02, -1.53055564e-02, -2.56314129e-03,\n",
              "         -3.26793268e-03,  3.24280374e-02,  1.72186978e-02,\n",
              "          3.79290916e-02],\n",
              "        [ 2.40135230e-02, -3.33075151e-02,  1.35445856e-02,\n",
              "         -3.75913754e-02, -4.21247482e-02, -1.54864676e-02,\n",
              "         -3.29972394e-02,  2.54235528e-02, -3.14727426e-02,\n",
              "          4.21342961e-02,  1.35131739e-02, -2.71069054e-02,\n",
              "          8.19605589e-03,  1.87534131e-02,  3.35444249e-02,\n",
              "          3.33775617e-02,  2.71205418e-02, -4.35013771e-02,\n",
              "          1.64789595e-02, -2.57331375e-02, -3.57539766e-02,\n",
              "         -3.48099954e-02,  1.77740939e-02, -1.66195519e-02,\n",
              "          3.29513289e-02, -3.25607806e-02, -1.11326091e-02,\n",
              "         -1.96286570e-02,  1.85299553e-02,  7.17080757e-03,\n",
              "          1.29010528e-03, -4.01609540e-02, -3.74066122e-02,\n",
              "         -2.96507720e-02,  2.30128206e-02,  2.69040354e-02,\n",
              "         -2.41977572e-02,  1.49822868e-02, -1.49420388e-02,\n",
              "          3.82639803e-02,  3.24040651e-03, -3.23913842e-02,\n",
              "         -1.44105665e-02,  7.22660869e-03,  6.92243502e-03,\n",
              "          1.42652281e-02,  3.49288620e-02,  4.72445227e-02,\n",
              "          1.33573301e-02,  4.00336869e-02, -2.88660061e-02,\n",
              "         -2.73771770e-02, -4.00232673e-02,  7.32000917e-03,\n",
              "         -9.90282744e-04,  3.61598767e-02, -4.31663282e-02,\n",
              "          1.80494301e-02, -4.79463004e-02,  3.54545973e-02,\n",
              "          3.64614986e-02,  2.29970701e-02, -3.66411693e-02,\n",
              "         -3.55477110e-02],\n",
              "        [ 1.16209984e-02, -2.79073715e-02,  1.34820864e-03,\n",
              "         -7.93205574e-03,  1.72428153e-02,  2.39385702e-02,\n",
              "         -3.88416164e-02,  4.02388237e-02,  1.58833377e-02,\n",
              "          4.39520217e-02, -1.71405561e-02,  2.56394185e-02,\n",
              "         -4.03120629e-02,  1.13197453e-02, -3.62349264e-02,\n",
              "          2.45054252e-02, -4.20076028e-02, -4.73747253e-02,\n",
              "          2.89292671e-02,  3.60752381e-02,  3.10361385e-03,\n",
              "         -1.05984136e-03,  2.54934914e-02, -4.61737067e-03,\n",
              "          1.15476735e-02,  2.53794678e-02, -3.92580256e-02,\n",
              "         -3.76722813e-02,  4.48025502e-02,  4.81374301e-02,\n",
              "          7.39610195e-03, -1.24827996e-02, -2.88189184e-02,\n",
              "         -1.08760595e-03,  1.31450333e-02,  2.69035809e-02,\n",
              "         -1.34823322e-02, -6.65762275e-03,  2.19889916e-02,\n",
              "          6.30211085e-04,  2.86623277e-02,  1.50186308e-02,\n",
              "          1.97911151e-02, -3.07725668e-02, -4.26489227e-02,\n",
              "         -2.13464852e-02,  2.71458887e-02,  4.23845090e-02,\n",
              "          3.18846218e-02,  1.75247304e-02,  2.71037966e-03,\n",
              "         -2.43120547e-02, -3.12697887e-03, -3.90477180e-02,\n",
              "          4.88963015e-02,  4.85259555e-02, -4.56985720e-02,\n",
              "          4.59039547e-02,  9.33642313e-03,  4.88390587e-02,\n",
              "          5.62435389e-03,  1.28818639e-02,  2.36415975e-02,\n",
              "         -1.64274201e-02],\n",
              "        [ 6.54120371e-03,  4.69270982e-02, -1.30427368e-02,\n",
              "          4.15690579e-02,  3.03154327e-02,  3.63482162e-03,\n",
              "         -3.25700529e-02, -2.71283276e-02, -3.92335653e-02,\n",
              "         -2.08674204e-02,  3.18096392e-02, -7.99287111e-04,\n",
              "         -6.28582388e-03,  4.93366159e-02,  5.22645563e-03,\n",
              "         -2.94536706e-02, -1.09577551e-02,  1.98553689e-02,\n",
              "         -4.95216139e-02,  2.87198089e-02, -4.82090227e-02,\n",
              "         -1.88225750e-02, -2.73599382e-02, -2.84844171e-02,\n",
              "          3.48721258e-02, -2.24416740e-02, -1.85487643e-02,\n",
              "          3.97752859e-02,  4.01435159e-02,  2.39334144e-02,\n",
              "         -1.32843256e-02, -2.03402396e-02, -4.40191627e-02,\n",
              "         -3.38028222e-02,  3.16822864e-02, -1.28566250e-02,\n",
              "         -3.89970765e-02, -1.67712569e-02,  2.61413194e-02,\n",
              "         -3.94841433e-02,  3.66933458e-02,  2.74512805e-02,\n",
              "          3.72937210e-02, -4.78234775e-02, -1.62571669e-03,\n",
              "         -3.91730666e-02, -4.11575548e-02, -2.26618405e-02,\n",
              "          3.79143693e-02, -4.44526337e-02,  4.28827144e-02,\n",
              "          1.82664283e-02, -4.52077389e-03,  4.78520729e-02,\n",
              "         -1.13423578e-02,  4.56801914e-02, -3.21703553e-02,\n",
              "          3.10737528e-02, -2.79798508e-02,  1.97949670e-02,\n",
              "         -3.04385908e-02,  5.61474636e-03, -2.29487661e-02,\n",
              "         -2.63492353e-02],\n",
              "        [ 3.05164605e-04, -6.17420673e-03, -2.11595185e-02,\n",
              "          3.92868556e-02, -5.69026545e-03,  4.85377945e-02,\n",
              "         -2.60672923e-02, -3.63808163e-02, -4.62068245e-03,\n",
              "         -2.69568693e-02, -4.75010537e-02,  1.34845264e-02,\n",
              "         -8.65727663e-03, -2.31709480e-02, -6.53837994e-03,\n",
              "         -1.48259476e-03,  4.10822369e-02, -2.48184446e-02,\n",
              "          4.22788747e-02, -9.63439792e-03,  1.48727931e-02,\n",
              "         -2.17813253e-02,  5.12164831e-03,  5.81897795e-04,\n",
              "          3.66645716e-02,  1.94276497e-03, -4.81948256e-02,\n",
              "         -4.83129174e-03,  2.01208703e-02,  3.34004797e-02,\n",
              "          1.35291852e-02, -1.89095736e-03, -2.56299973e-02,\n",
              "          2.50649936e-02,  3.87257077e-02,  3.34381945e-02,\n",
              "         -3.43420729e-02,  2.11837143e-03, -2.39254832e-02,\n",
              "         -2.58896705e-02, -4.25640941e-02, -3.40255126e-02,\n",
              "          1.89059414e-02,  2.93123759e-02,  4.80481274e-02,\n",
              "          2.54708268e-02, -2.24339962e-03,  3.89443971e-02,\n",
              "          1.81842558e-02,  2.45034955e-02, -7.89171457e-03,\n",
              "          8.15733522e-03,  2.80039199e-02, -1.71519816e-04,\n",
              "          3.46370786e-03, -2.30937004e-02,  4.98117469e-02,\n",
              "          4.59696166e-02,  4.07745130e-02,  1.67442001e-02,\n",
              "          5.71496785e-05, -1.94427613e-02, -8.62625986e-03,\n",
              "          2.66815089e-02],\n",
              "        [ 2.25037076e-02, -1.93587672e-02,  4.69723456e-02,\n",
              "          1.85624249e-02, -2.15874985e-03, -3.37690488e-02,\n",
              "          2.56303437e-02,  1.63718797e-02,  5.21396473e-03,\n",
              "         -3.88467312e-03,  4.25089337e-02, -3.55654955e-03,\n",
              "         -4.71890457e-02, -2.51402985e-02,  4.30497564e-02,\n",
              "         -1.07620731e-02,  4.70395349e-02,  1.16806030e-02,\n",
              "          3.25947292e-02, -3.79214287e-02,  3.06071751e-02,\n",
              "         -4.50194255e-02, -4.08712998e-02,  2.89687850e-02,\n",
              "         -8.02625343e-03,  3.42478864e-02,  2.69049406e-03,\n",
              "          1.70856752e-02,  3.35017592e-03, -1.20949037e-02,\n",
              "         -3.20085511e-02, -3.05205230e-02, -1.72151327e-02,\n",
              "         -1.98662039e-02,  3.43953706e-02, -1.82480104e-02,\n",
              "          6.06407970e-03,  5.34973294e-03,  2.48221420e-02,\n",
              "          2.98493244e-02,  4.23973240e-02,  1.23298168e-02,\n",
              "         -3.43912244e-02, -2.68566739e-02,  2.28125192e-02,\n",
              "          4.98047732e-02, -1.06856935e-02, -4.56435084e-02,\n",
              "          2.49223746e-02,  3.67477201e-02, -3.66720445e-02,\n",
              "          2.65697576e-02,  3.97276133e-04, -2.32843403e-02,\n",
              "         -4.28035259e-02,  3.71038578e-02,  2.48577707e-02,\n",
              "         -2.81819236e-02, -1.16987936e-02,  2.39102133e-02,\n",
              "          2.81130411e-02,  3.78285982e-02, -4.40389775e-02,\n",
              "          2.95066275e-02],\n",
              "        [ 2.99675353e-02, -3.55059020e-02,  1.38736703e-02,\n",
              "         -3.17711383e-02, -2.58224607e-02,  1.22069232e-02,\n",
              "          5.06286696e-03,  1.98600180e-02,  3.70658748e-02,\n",
              "          2.66407244e-02, -3.57331745e-02,  1.12549216e-03,\n",
              "          4.20953073e-02, -2.71832943e-02, -8.32650810e-03,\n",
              "         -4.43520397e-03,  4.84560244e-02, -2.05664635e-02,\n",
              "          1.13689676e-02,  3.61061580e-02,  4.39868309e-02,\n",
              "         -4.93671894e-02, -2.15946194e-02,  2.32856311e-02,\n",
              "          1.50366463e-02, -3.09719332e-02, -1.94091201e-02,\n",
              "          1.29706524e-02,  3.87929343e-02, -3.35180759e-03,\n",
              "          1.60668008e-02, -2.79553067e-02, -1.61834136e-02,\n",
              "          8.92236084e-03, -1.37941837e-02,  4.57844473e-02,\n",
              "         -1.00067034e-02,  2.09877007e-02,  3.11108343e-02,\n",
              "         -4.75814342e-02, -4.91915718e-02, -3.95769998e-03,\n",
              "          2.54534148e-02,  3.15383710e-02,  4.53210361e-02,\n",
              "          3.77506725e-02,  2.90471800e-02, -2.82120109e-02,\n",
              "         -4.82192039e-02,  1.46462768e-03, -8.64636898e-03,\n",
              "         -4.47698943e-02,  1.31462254e-02, -3.59403715e-02,\n",
              "         -4.30803560e-02, -3.30325849e-02, -1.43064186e-03,\n",
              "         -1.37458667e-02, -2.55481135e-02,  4.14627083e-02,\n",
              "          8.61257315e-03,  4.47930433e-02,  3.67452167e-02,\n",
              "          1.13603473e-02],\n",
              "        [-1.90071594e-02, -4.17590141e-04, -2.09367163e-02,\n",
              "         -3.73831019e-02, -2.42628213e-02,  3.48882191e-02,\n",
              "          1.30154938e-03, -5.50197437e-03, -2.86567956e-04,\n",
              "          1.59590319e-03, -6.13028929e-03,  9.86901671e-03,\n",
              "         -6.69861957e-03, -3.36585194e-03, -6.78138807e-03,\n",
              "          9.24185663e-03, -3.67447957e-02, -2.15307958e-02,\n",
              "          3.46104167e-02, -1.90970432e-02, -3.09420582e-02,\n",
              "         -3.15793045e-02,  4.92142327e-02,  2.48980783e-02,\n",
              "         -4.02252562e-02, -2.33328342e-02,  4.49206568e-02,\n",
              "          4.07037474e-02,  4.86937501e-02,  1.49893761e-03,\n",
              "          2.12786235e-02, -3.67846116e-02, -4.36649807e-02,\n",
              "         -2.39542965e-02,  1.94235705e-02, -3.72985601e-02,\n",
              "          3.42478789e-02, -7.60489702e-03, -3.13597918e-02,\n",
              "          3.81857790e-02,  1.72220506e-02,  2.02291086e-03,\n",
              "         -3.15373912e-02, -3.18144113e-02,  4.94072549e-02,\n",
              "          2.48911493e-02, -1.61442384e-02, -8.07678699e-03,\n",
              "         -3.52991000e-02, -2.85938736e-02,  2.45022886e-02,\n",
              "         -2.57304199e-02,  6.55814260e-03,  1.51021965e-02,\n",
              "         -6.15809113e-03,  1.67008080e-02,  4.32451814e-03,\n",
              "          4.40100543e-02,  3.63682583e-03,  3.54615934e-02,\n",
              "          2.67064236e-02,  2.56644227e-02,  1.41123794e-02,\n",
              "         -1.98565852e-02],\n",
              "        [ 3.05164605e-04, -6.17420673e-03, -2.11595185e-02,\n",
              "          3.92868556e-02, -5.69026545e-03,  4.85377945e-02,\n",
              "         -2.60672923e-02, -3.63808163e-02, -4.62068245e-03,\n",
              "         -2.69568693e-02, -4.75010537e-02,  1.34845264e-02,\n",
              "         -8.65727663e-03, -2.31709480e-02, -6.53837994e-03,\n",
              "         -1.48259476e-03,  4.10822369e-02, -2.48184446e-02,\n",
              "          4.22788747e-02, -9.63439792e-03,  1.48727931e-02,\n",
              "         -2.17813253e-02,  5.12164831e-03,  5.81897795e-04,\n",
              "          3.66645716e-02,  1.94276497e-03, -4.81948256e-02,\n",
              "         -4.83129174e-03,  2.01208703e-02,  3.34004797e-02,\n",
              "          1.35291852e-02, -1.89095736e-03, -2.56299973e-02,\n",
              "          2.50649936e-02,  3.87257077e-02,  3.34381945e-02,\n",
              "         -3.43420729e-02,  2.11837143e-03, -2.39254832e-02,\n",
              "         -2.58896705e-02, -4.25640941e-02, -3.40255126e-02,\n",
              "          1.89059414e-02,  2.93123759e-02,  4.80481274e-02,\n",
              "          2.54708268e-02, -2.24339962e-03,  3.89443971e-02,\n",
              "          1.81842558e-02,  2.45034955e-02, -7.89171457e-03,\n",
              "          8.15733522e-03,  2.80039199e-02, -1.71519816e-04,\n",
              "          3.46370786e-03, -2.30937004e-02,  4.98117469e-02,\n",
              "          4.59696166e-02,  4.07745130e-02,  1.67442001e-02,\n",
              "          5.71496785e-05, -1.94427613e-02, -8.62625986e-03,\n",
              "          2.66815089e-02],\n",
              "        [-4.46133725e-02, -3.51523980e-02,  3.88543643e-02,\n",
              "          3.41993012e-02,  2.53167786e-02,  3.52901705e-02,\n",
              "         -2.59453785e-02, -4.01187763e-02,  3.11069973e-02,\n",
              "         -7.61941820e-03, -2.94921529e-02,  9.08154249e-03,\n",
              "          8.99314880e-04,  4.52733301e-02,  3.48426402e-04,\n",
              "          2.94643380e-02,  3.57472338e-02, -3.17385420e-02,\n",
              "          4.76630777e-03,  2.67669074e-02, -3.01987175e-02,\n",
              "          1.13078244e-02, -4.95061390e-02, -2.52061617e-02,\n",
              "         -3.39715481e-02, -3.61354835e-02,  1.16198547e-02,\n",
              "          4.25968319e-03, -4.95805033e-02, -2.87382361e-02,\n",
              "         -5.54479286e-03, -4.19793241e-02,  4.16852571e-02,\n",
              "          1.54880919e-02, -4.43928726e-02,  1.41355880e-02,\n",
              "         -3.89423221e-03, -1.74748674e-02,  1.22075081e-02,\n",
              "          5.19790500e-03,  3.44949476e-02, -1.17003210e-02,\n",
              "         -1.01539977e-02, -1.66312940e-02,  8.07064772e-03,\n",
              "         -3.16629782e-02,  1.47818662e-02,  7.08053261e-03,\n",
              "          2.47738995e-02,  3.68802585e-02,  9.99480486e-03,\n",
              "          4.33743000e-03,  1.58846378e-03,  4.02151830e-02,\n",
              "          4.60215695e-02, -3.98886800e-02,  3.16618569e-02,\n",
              "          9.65077803e-03, -2.40556132e-02, -4.14161198e-02,\n",
              "          7.20333308e-04,  4.90951650e-02,  4.22490276e-02,\n",
              "          1.68784596e-02],\n",
              "        [-4.66766618e-02,  4.14221399e-02, -3.69569547e-02,\n",
              "          1.71228498e-03, -2.01567169e-02,  4.78363037e-03,\n",
              "         -4.31268215e-02,  1.50631554e-02, -2.42722165e-02,\n",
              "         -2.46134400e-02,  2.13358290e-02, -7.27949291e-03,\n",
              "          3.16286199e-02,  1.21371262e-02, -1.43773481e-03,\n",
              "         -4.30935621e-03, -3.53405103e-02, -4.26367894e-02,\n",
              "          2.43192427e-02,  4.03177030e-02, -1.72046199e-02,\n",
              "         -4.21052054e-03,  9.49572399e-03,  2.71455981e-02,\n",
              "         -1.79049857e-02, -3.17338593e-02, -6.84362650e-03,\n",
              "         -1.06286295e-02, -1.44952312e-02,  3.76257338e-02,\n",
              "          2.61632912e-02,  2.61129253e-02, -2.87948921e-03,\n",
              "         -1.61315799e-02, -3.29981223e-02,  2.59021781e-02,\n",
              "         -1.20541342e-02, -2.33705044e-02,  1.27260126e-02,\n",
              "         -4.58845869e-02,  4.92060520e-02, -4.15162444e-02,\n",
              "         -4.07659411e-02, -2.29874495e-02, -5.34740835e-03,\n",
              "         -3.77572887e-02,  2.83228196e-02, -4.81880903e-02,\n",
              "          6.49955124e-03, -2.80009750e-02, -3.74034420e-02,\n",
              "          3.94115336e-02,  2.86143087e-02,  4.02863063e-02,\n",
              "         -3.47722322e-04, -3.19420919e-02, -8.51719454e-03,\n",
              "          1.27923973e-02,  3.38605978e-02,  2.02692039e-02,\n",
              "          8.85188580e-04,  4.80034985e-02,  1.13334060e-02,\n",
              "          4.61984016e-02],\n",
              "        [ 3.75541113e-02,  2.08730623e-03, -3.04897875e-03,\n",
              "          4.32411470e-02, -4.38459180e-02,  1.95111297e-02,\n",
              "         -3.26605886e-03, -2.70399936e-02,  3.90297435e-02,\n",
              "         -2.96760928e-02, -5.39288670e-03, -2.76221875e-02,\n",
              "         -8.14721733e-03, -4.79373336e-02, -8.41765478e-03,\n",
              "          2.41371654e-02,  8.79888609e-03, -3.25711742e-02,\n",
              "         -1.81465857e-02, -2.98019405e-02,  4.58980836e-02,\n",
              "          1.03006363e-02, -1.01156011e-02,  2.05616243e-02,\n",
              "          4.14337032e-02, -1.99414492e-02,  4.50288169e-02,\n",
              "         -4.21612635e-02,  1.52152069e-02, -3.21355350e-02,\n",
              "          2.60428824e-02, -1.77554376e-02, -1.97291374e-04,\n",
              "         -2.57440452e-02, -3.16705592e-02, -3.31994295e-02,\n",
              "         -4.60935608e-02, -4.29714583e-02, -3.69482636e-02,\n",
              "         -2.74103880e-03,  1.44696720e-02,  5.11439890e-03,\n",
              "          2.93515958e-02,  2.61041634e-02,  4.25103642e-02,\n",
              "         -3.82979624e-02,  6.37214258e-03,  7.49176741e-03,\n",
              "          3.86939086e-02, -1.04424357e-02,  4.00718190e-02,\n",
              "         -1.78031102e-02,  3.47043164e-02,  3.47316153e-02,\n",
              "          1.54646970e-02, -5.52610308e-03, -4.47866917e-02,\n",
              "          4.25861590e-02, -1.57187805e-02,  2.36678459e-02,\n",
              "          1.16357915e-02,  1.80416740e-02, -2.03122944e-03,\n",
              "         -8.12493265e-04],\n",
              "        [ 3.95320766e-02, -3.82668264e-02,  1.62813105e-02,\n",
              "          4.49783467e-02, -9.51344892e-03, -1.27200857e-02,\n",
              "         -3.50044593e-02,  4.46435697e-02,  2.79587619e-02,\n",
              "          1.32583268e-02,  2.73870714e-02, -4.84736077e-02,\n",
              "          3.57170440e-02, -7.93468952e-03,  7.26033375e-03,\n",
              "          1.99535973e-02,  7.61888176e-03, -3.88740189e-02,\n",
              "          3.06617953e-02,  6.55808300e-03,  4.12029140e-02,\n",
              "         -3.68350372e-02,  3.98472287e-02, -3.91482003e-02,\n",
              "         -3.79927643e-02, -1.06713995e-02, -4.73424904e-02,\n",
              "         -2.12530140e-02, -3.79414931e-02,  2.15069316e-02,\n",
              "          3.10409330e-02, -2.58372910e-02, -2.65257247e-02,\n",
              "          3.02242748e-02,  4.15552743e-02, -4.42888848e-02,\n",
              "         -2.70409510e-03, -3.22513729e-02, -8.42376798e-03,\n",
              "          1.71096213e-02, -2.86124833e-02, -3.81197333e-02,\n",
              "          3.50054018e-02, -9.70462710e-03, -2.90852431e-02,\n",
              "          1.70536377e-02,  3.81806009e-02, -4.75370772e-02,\n",
              "         -2.82776002e-02,  3.73265781e-02, -2.07372792e-02,\n",
              "          4.40930165e-02, -1.49684660e-02, -3.35371643e-02,\n",
              "          5.23275137e-03,  4.35635708e-02, -5.44713810e-03,\n",
              "         -2.84430627e-02,  1.10111609e-02,  5.76473773e-04,\n",
              "          2.25408785e-02, -2.44297870e-02, -2.67016049e-02,\n",
              "          3.90870236e-02],\n",
              "        [ 3.95320766e-02, -3.82668264e-02,  1.62813105e-02,\n",
              "          4.49783467e-02, -9.51344892e-03, -1.27200857e-02,\n",
              "         -3.50044593e-02,  4.46435697e-02,  2.79587619e-02,\n",
              "          1.32583268e-02,  2.73870714e-02, -4.84736077e-02,\n",
              "          3.57170440e-02, -7.93468952e-03,  7.26033375e-03,\n",
              "          1.99535973e-02,  7.61888176e-03, -3.88740189e-02,\n",
              "          3.06617953e-02,  6.55808300e-03,  4.12029140e-02,\n",
              "         -3.68350372e-02,  3.98472287e-02, -3.91482003e-02,\n",
              "         -3.79927643e-02, -1.06713995e-02, -4.73424904e-02,\n",
              "         -2.12530140e-02, -3.79414931e-02,  2.15069316e-02,\n",
              "          3.10409330e-02, -2.58372910e-02, -2.65257247e-02,\n",
              "          3.02242748e-02,  4.15552743e-02, -4.42888848e-02,\n",
              "         -2.70409510e-03, -3.22513729e-02, -8.42376798e-03,\n",
              "          1.71096213e-02, -2.86124833e-02, -3.81197333e-02,\n",
              "          3.50054018e-02, -9.70462710e-03, -2.90852431e-02,\n",
              "          1.70536377e-02,  3.81806009e-02, -4.75370772e-02,\n",
              "         -2.82776002e-02,  3.73265781e-02, -2.07372792e-02,\n",
              "          4.40930165e-02, -1.49684660e-02, -3.35371643e-02,\n",
              "          5.23275137e-03,  4.35635708e-02, -5.44713810e-03,\n",
              "         -2.84430627e-02,  1.10111609e-02,  5.76473773e-04,\n",
              "          2.25408785e-02, -2.44297870e-02, -2.67016049e-02,\n",
              "          3.90870236e-02]]], dtype=float32)>"
            ]
          },
          "metadata": {
            "tags": []
          },
          "execution_count": 41
        }
      ]
    },
    {
      "cell_type": "markdown",
      "metadata": {
        "id": "7TDL0iG7kh3k"
      },
      "source": [
        "### model1 (simple neural network)"
      ]
    },
    {
      "cell_type": "code",
      "metadata": {
        "id": "crViovvhj88a"
      },
      "source": [
        "inputs = layers.Input(shape=(1,), dtype='string')\n",
        "\n",
        "X = text_vectorizer(inputs)\n",
        "X = embedding(X)\n",
        "\n",
        "X = layers.GlobalAveragePooling1D()(X) # we need the shape of output (None, 1)=> one value per sequence not in (None, 15, 1)=> one value per token\n",
        "outputs = layers.Dense(1, activation='sigmoid')(X)\n",
        "\n",
        "model1 = tf.keras.Model(inputs, outputs)\n",
        "\n",
        "model1.compile(loss='binary_crossentropy',\n",
        "               optimizer=tf.keras.optimizers.Adam(),\n",
        "               metrics=['accuracy'])"
      ],
      "execution_count": 42,
      "outputs": []
    },
    {
      "cell_type": "code",
      "metadata": {
        "colab": {
          "base_uri": "https://localhost:8080/"
        },
        "id": "khNWewmulvXp",
        "outputId": "03a8066d-cd36-4175-b118-660e107bcd71"
      },
      "source": [
        "model1.summary()"
      ],
      "execution_count": 43,
      "outputs": [
        {
          "output_type": "stream",
          "text": [
            "Model: \"model\"\n",
            "_________________________________________________________________\n",
            "Layer (type)                 Output Shape              Param #   \n",
            "=================================================================\n",
            "input_1 (InputLayer)         [(None, 1)]               0         \n",
            "_________________________________________________________________\n",
            "text_vectorization (TextVect (None, 15)                0         \n",
            "_________________________________________________________________\n",
            "embedding (Embedding)        (None, 15, 64)            640000    \n",
            "_________________________________________________________________\n",
            "global_average_pooling1d (Gl (None, 64)                0         \n",
            "_________________________________________________________________\n",
            "dense (Dense)                (None, 1)                 65        \n",
            "=================================================================\n",
            "Total params: 640,065\n",
            "Trainable params: 640,065\n",
            "Non-trainable params: 0\n",
            "_________________________________________________________________\n"
          ],
          "name": "stdout"
        }
      ]
    },
    {
      "cell_type": "code",
      "metadata": {
        "colab": {
          "base_uri": "https://localhost:8080/"
        },
        "id": "8dcnPZ4Yl3Ro",
        "outputId": "aabe7ca8-bfba-418c-ba09-e9dad8ce8e15"
      },
      "source": [
        "history1 = model1.fit(X_train,\n",
        "           y_train,\n",
        "           epochs=5,\n",
        "           validation_data=(X_test,y_test))"
      ],
      "execution_count": 44,
      "outputs": [
        {
          "output_type": "stream",
          "text": [
            "Epoch 1/5\n",
            "213/213 [==============================] - 5s 9ms/step - loss: 0.6361 - accuracy: 0.6713 - val_loss: 0.5635 - val_accuracy: 0.7474\n",
            "Epoch 2/5\n",
            "213/213 [==============================] - 2s 8ms/step - loss: 0.4926 - accuracy: 0.8006 - val_loss: 0.4683 - val_accuracy: 0.7817\n",
            "Epoch 3/5\n",
            "213/213 [==============================] - 2s 8ms/step - loss: 0.3985 - accuracy: 0.8417 - val_loss: 0.4340 - val_accuracy: 0.7950\n",
            "Epoch 4/5\n",
            "213/213 [==============================] - 2s 8ms/step - loss: 0.3361 - accuracy: 0.8680 - val_loss: 0.4211 - val_accuracy: 0.8069\n",
            "Epoch 5/5\n",
            "213/213 [==============================] - 2s 8ms/step - loss: 0.2890 - accuracy: 0.8901 - val_loss: 0.4234 - val_accuracy: 0.8042\n"
          ],
          "name": "stdout"
        }
      ]
    },
    {
      "cell_type": "code",
      "metadata": {
        "colab": {
          "base_uri": "https://localhost:8080/"
        },
        "id": "u-zfLuOPmx2g",
        "outputId": "576299a9-7c3f-4f94-f60e-1b5d254da3f7"
      },
      "source": [
        "model1.evaluate(X_test,y_test)"
      ],
      "execution_count": 45,
      "outputs": [
        {
          "output_type": "stream",
          "text": [
            "24/24 [==============================] - 0s 3ms/step - loss: 0.4234 - accuracy: 0.8042\n"
          ],
          "name": "stdout"
        },
        {
          "output_type": "execute_result",
          "data": {
            "text/plain": [
              "[0.4234403669834137, 0.8042327761650085]"
            ]
          },
          "metadata": {
            "tags": []
          },
          "execution_count": 45
        }
      ]
    },
    {
      "cell_type": "code",
      "metadata": {
        "id": "4Zh-_E5xnQ8A"
      },
      "source": [
        "pred_text_csv2 = model1.predict(test_csv_text)"
      ],
      "execution_count": 46,
      "outputs": []
    },
    {
      "cell_type": "code",
      "metadata": {
        "id": "nFG88YXvnfJY"
      },
      "source": [
        "pred_text_csv2 = tf.cast(tf.squeeze(tf.round(pred_text_csv2)), dtype=tf.int32)"
      ],
      "execution_count": 47,
      "outputs": []
    },
    {
      "cell_type": "code",
      "metadata": {
        "id": "dWyRi98qm6fh"
      },
      "source": [
        "submission = pd.DataFrame({\n",
        "        \"id\": test_csv['id'],\n",
        "        \"target\": pred_text_csv2\n",
        "    })"
      ],
      "execution_count": 48,
      "outputs": []
    },
    {
      "cell_type": "code",
      "metadata": {
        "id": "NUmL1B86nOui"
      },
      "source": [
        "submission.to_csv('sub2.csv',index=False)"
      ],
      "execution_count": 49,
      "outputs": []
    },
    {
      "cell_type": "markdown",
      "metadata": {
        "id": "mmC2v25nreZL"
      },
      "source": [
        "### model2 (LSTM,GRU and bidirectional"
      ]
    },
    {
      "cell_type": "code",
      "metadata": {
        "id": "jokyuumdrd_r"
      },
      "source": [
        "inputs = layers.Input(shape=(1,), dtype='string')\n",
        "\n",
        "X = text_vectorizer(inputs)\n",
        "X = embedding(X)\n",
        "\n",
        "X = layers.LSTM(64)(X)\n",
        "# X = layers.GRU(64)(X)\n",
        "# X = layers.Bidirectional(layers.LSTM(64, return_sequences=True))(X)\n",
        "# X = layers.Bidirectional(layers.GRU(64))(X)\n",
        "\n",
        "outputs = layers.Dense(1, activation='sigmoid')(X)\n",
        "\n",
        "model2 = tf.keras.Model(inputs, outputs)\n",
        "\n",
        "model2.compile(loss='binary_crossentropy',\n",
        "               optimizer=tf.keras.optimizers.Adam(),\n",
        "               metrics=['accuracy'])"
      ],
      "execution_count": 50,
      "outputs": []
    },
    {
      "cell_type": "code",
      "metadata": {
        "colab": {
          "base_uri": "https://localhost:8080/"
        },
        "id": "W2_t4U7MoUpO",
        "outputId": "da9a0a91-bd6f-492f-93de-2bb92f1ba1a0"
      },
      "source": [
        "model2.summary()"
      ],
      "execution_count": 51,
      "outputs": [
        {
          "output_type": "stream",
          "text": [
            "Model: \"model_1\"\n",
            "_________________________________________________________________\n",
            "Layer (type)                 Output Shape              Param #   \n",
            "=================================================================\n",
            "input_2 (InputLayer)         [(None, 1)]               0         \n",
            "_________________________________________________________________\n",
            "text_vectorization (TextVect (None, 15)                0         \n",
            "_________________________________________________________________\n",
            "embedding (Embedding)        (None, 15, 64)            640000    \n",
            "_________________________________________________________________\n",
            "lstm (LSTM)                  (None, 64)                33024     \n",
            "_________________________________________________________________\n",
            "dense_1 (Dense)              (None, 1)                 65        \n",
            "=================================================================\n",
            "Total params: 673,089\n",
            "Trainable params: 673,089\n",
            "Non-trainable params: 0\n",
            "_________________________________________________________________\n"
          ],
          "name": "stdout"
        }
      ]
    },
    {
      "cell_type": "code",
      "metadata": {
        "colab": {
          "base_uri": "https://localhost:8080/"
        },
        "id": "csnhmYlBrwRZ",
        "outputId": "6885d08a-1ae0-4106-877b-0d480f3e018e"
      },
      "source": [
        "history2 = model2.fit(X_train,\n",
        "                      y_train,\n",
        "                      epochs=5,\n",
        "                      validation_data=(X_test,y_test))"
      ],
      "execution_count": 52,
      "outputs": [
        {
          "output_type": "stream",
          "text": [
            "Epoch 1/5\n",
            "213/213 [==============================] - 8s 13ms/step - loss: 0.2595 - accuracy: 0.8992 - val_loss: 0.5285 - val_accuracy: 0.7963\n",
            "Epoch 2/5\n",
            "213/213 [==============================] - 2s 11ms/step - loss: 0.1901 - accuracy: 0.9305 - val_loss: 0.5918 - val_accuracy: 0.7937\n",
            "Epoch 3/5\n",
            "213/213 [==============================] - 2s 11ms/step - loss: 0.1552 - accuracy: 0.9420 - val_loss: 0.6110 - val_accuracy: 0.7817\n",
            "Epoch 4/5\n",
            "213/213 [==============================] - 2s 11ms/step - loss: 0.1280 - accuracy: 0.9535 - val_loss: 0.5795 - val_accuracy: 0.7857\n",
            "Epoch 5/5\n",
            "213/213 [==============================] - 2s 11ms/step - loss: 0.1051 - accuracy: 0.9597 - val_loss: 0.8459 - val_accuracy: 0.7659\n"
          ],
          "name": "stdout"
        }
      ]
    },
    {
      "cell_type": "code",
      "metadata": {
        "colab": {
          "base_uri": "https://localhost:8080/",
          "height": 286
        },
        "id": "eCjjLFQWsF98",
        "outputId": "858f8239-4fc4-4478-ec4f-a5e39e1e85bc"
      },
      "source": [
        "pd.DataFrame(history2.history).plot()"
      ],
      "execution_count": 53,
      "outputs": [
        {
          "output_type": "execute_result",
          "data": {
            "text/plain": [
              "<matplotlib.axes._subplots.AxesSubplot at 0x7f64c76bc390>"
            ]
          },
          "metadata": {
            "tags": []
          },
          "execution_count": 53
        },
        {
          "output_type": "display_data",
          "data": {
            "image/png": "[encoded data removed]",
            "text/plain": [
              "<Figure size 432x288 with 1 Axes>"
            ]
          },
          "metadata": {
            "tags": [],
            "needs_background": "light"
          }
        }
      ]
    },
    {
      "cell_type": "code",
      "metadata": {
        "colab": {
          "base_uri": "https://localhost:8080/"
        },
        "id": "K4y8SsfrsR60",
        "outputId": "0b43f799-e505-41cb-a8d8-da8904a9b1a7"
      },
      "source": [
        "model2.evaluate(X_test,y_test)"
      ],
      "execution_count": 54,
      "outputs": [
        {
          "output_type": "stream",
          "text": [
            "24/24 [==============================] - 0s 4ms/step - loss: 0.8459 - accuracy: 0.7659\n"
          ],
          "name": "stdout"
        },
        {
          "output_type": "execute_result",
          "data": {
            "text/plain": [
              "[0.8458914160728455, 0.7658730149269104]"
            ]
          },
          "metadata": {
            "tags": []
          },
          "execution_count": 54
        }
      ]
    },
    {
      "cell_type": "markdown",
      "metadata": {
        "id": "2O-A5XbpvBId"
      },
      "source": [
        "### model3 (Conv1d)"
      ]
    },
    {
      "cell_type": "code",
      "metadata": {
        "id": "EyeMnZs3sx8n"
      },
      "source": [
        "inputs = layers.Input(shape=(1,), dtype='string')\n",
        "X = text_vectorizer(inputs)\n",
        "X = embedding(X)\n",
        "\n",
        "X = layers.Conv1D(32, kernel_size=5, activation='relu')(X)\n",
        "X = layers.GlobalMaxPool1D()(X)\n",
        "outputs = layers.Dense(1, activation='sigmoid')(X)\n",
        "\n",
        "model3 = tf.keras.Model(inputs, outputs)\n",
        "\n",
        "model3.compile(loss='binary_crossentropy',\n",
        "               optimizer='adam',\n",
        "               metrics=['accuracy'])"
      ],
      "execution_count": 70,
      "outputs": []
    },
    {
      "cell_type": "code",
      "metadata": {
        "colab": {
          "base_uri": "https://localhost:8080/"
        },
        "id": "m8tR3XGUNxzg",
        "outputId": "aa7cbac9-cfe6-428f-8e74-047d9262742f"
      },
      "source": [
        "model3.summary()"
      ],
      "execution_count": 71,
      "outputs": [
        {
          "output_type": "stream",
          "text": [
            "Model: \"model_7\"\n",
            "_________________________________________________________________\n",
            "Layer (type)                 Output Shape              Param #   \n",
            "=================================================================\n",
            "input_9 (InputLayer)         [(None, 1)]               0         \n",
            "_________________________________________________________________\n",
            "text_vectorization (TextVect (None, 15)                0         \n",
            "_________________________________________________________________\n",
            "embedding (Embedding)        (None, 15, 64)            640000    \n",
            "_________________________________________________________________\n",
            "conv1d_6 (Conv1D)            (None, 11, 32)            10272     \n",
            "_________________________________________________________________\n",
            "global_max_pooling1d_5 (Glob (None, 32)                0         \n",
            "_________________________________________________________________\n",
            "dense_7 (Dense)              (None, 1)                 33        \n",
            "=================================================================\n",
            "Total params: 650,305\n",
            "Trainable params: 650,305\n",
            "Non-trainable params: 0\n",
            "_________________________________________________________________\n"
          ],
          "name": "stdout"
        }
      ]
    },
    {
      "cell_type": "code",
      "metadata": {
        "colab": {
          "base_uri": "https://localhost:8080/"
        },
        "id": "0GkxpenuN0Pm",
        "outputId": "7ead2a21-13d7-462f-c392-1375e0030cfd"
      },
      "source": [
        "model3.fit(X_train,\n",
        "           y_train,\n",
        "           epochs=5,\n",
        "           validation_data=(X_test,y_test))"
      ],
      "execution_count": 72,
      "outputs": [
        {
          "output_type": "stream",
          "text": [
            "Epoch 1/5\n",
            "213/213 [==============================] - 3s 11ms/step - loss: 0.1252 - accuracy: 0.9634 - val_loss: 0.8143 - val_accuracy: 0.7632\n",
            "Epoch 2/5\n",
            "213/213 [==============================] - 2s 10ms/step - loss: 0.0574 - accuracy: 0.9798 - val_loss: 0.9400 - val_accuracy: 0.7672\n",
            "Epoch 3/5\n",
            "213/213 [==============================] - 2s 10ms/step - loss: 0.0500 - accuracy: 0.9806 - val_loss: 1.0353 - val_accuracy: 0.7646\n",
            "Epoch 4/5\n",
            "213/213 [==============================] - 2s 10ms/step - loss: 0.0482 - accuracy: 0.9779 - val_loss: 1.0896 - val_accuracy: 0.7593\n",
            "Epoch 5/5\n",
            "213/213 [==============================] - 2s 10ms/step - loss: 0.0458 - accuracy: 0.9797 - val_loss: 1.1364 - val_accuracy: 0.7606\n"
          ],
          "name": "stdout"
        },
        {
          "output_type": "execute_result",
          "data": {
            "text/plain": [
              "<tensorflow.python.keras.callbacks.History at 0x7f648411b050>"
            ]
          },
          "metadata": {
            "tags": []
          },
          "execution_count": 72
        }
      ]
    },
    {
      "cell_type": "code",
      "metadata": {
        "colab": {
          "base_uri": "https://localhost:8080/"
        },
        "id": "qX1U534POMtc",
        "outputId": "d8329d54-bf54-43e0-e725-d19d142be6a8"
      },
      "source": [
        "model3.evaluate(X_test,y_test)"
      ],
      "execution_count": 73,
      "outputs": [
        {
          "output_type": "stream",
          "text": [
            "24/24 [==============================] - 0s 3ms/step - loss: 1.1364 - accuracy: 0.7606\n"
          ],
          "name": "stdout"
        },
        {
          "output_type": "execute_result",
          "data": {
            "text/plain": [
              "[1.136422038078308, 0.7605820298194885]"
            ]
          },
          "metadata": {
            "tags": []
          },
          "execution_count": 73
        }
      ]
    },
    {
      "cell_type": "markdown",
      "metadata": {
        "id": "-ymwZFyUPVBN"
      },
      "source": [
        "### model4 (transform learning)"
      ]
    },
    {
      "cell_type": "code",
      "metadata": {
        "id": "XQKk3KryPLRO"
      },
      "source": [
        "import tensorflow_hub as hub"
      ],
      "execution_count": 74,
      "outputs": []
    },
    {
      "cell_type": "code",
      "metadata": {
        "id": "pjBe4AHkP31N"
      },
      "source": [
        "sentence_encoder_layer = hub.KerasLayer('https://tfhub.dev/google/universal-sentence-encoder/4',\n",
        "                                        input_shape=[],\n",
        "                                        trainable=False,\n",
        "                                        dtype=tf.string)\n",
        "\n",
        "model4 = tf.keras.Sequential([\n",
        "      sentence_encoder_layer,\n",
        "      layers.Dense(64, activation='relu'),\n",
        "      layers.Dense(1, activation='sigmoid')\n",
        "])\n",
        "\n",
        "model4.compile(loss='binary_crossentropy',\n",
        "               optimizer='adam',\n",
        "               metrics=['accuracy'])"
      ],
      "execution_count": 92,
      "outputs": []
    },
    {
      "cell_type": "code",
      "metadata": {
        "colab": {
          "base_uri": "https://localhost:8080/"
        },
        "id": "bDHm0kCARhyJ",
        "outputId": "d973c213-d25f-4ac7-8eee-94c2873c1770"
      },
      "source": [
        "model4.summary()"
      ],
      "execution_count": 93,
      "outputs": [
        {
          "output_type": "stream",
          "text": [
            "Model: \"sequential_4\"\n",
            "_________________________________________________________________\n",
            "Layer (type)                 Output Shape              Param #   \n",
            "=================================================================\n",
            "keras_layer_4 (KerasLayer)   (None, 512)               256797824 \n",
            "_________________________________________________________________\n",
            "dense_16 (Dense)             (None, 64)                32832     \n",
            "_________________________________________________________________\n",
            "dense_17 (Dense)             (None, 1)                 65        \n",
            "=================================================================\n",
            "Total params: 256,830,721\n",
            "Trainable params: 32,897\n",
            "Non-trainable params: 256,797,824\n",
            "_________________________________________________________________\n"
          ],
          "name": "stdout"
        }
      ]
    },
    {
      "cell_type": "code",
      "metadata": {
        "colab": {
          "base_uri": "https://localhost:8080/"
        },
        "id": "mo3NxpE0RouW",
        "outputId": "c1b76b0e-051e-46ea-d7c7-614eda793067"
      },
      "source": [
        "model4.fit(X_train,\n",
        "           y_train,\n",
        "           epochs=5,\n",
        "           validation_data=(X_test,y_test))"
      ],
      "execution_count": 94,
      "outputs": [
        {
          "output_type": "stream",
          "text": [
            "Epoch 1/5\n",
            "213/213 [==============================] - 5s 12ms/step - loss: 0.5079 - accuracy: 0.7791 - val_loss: 0.4354 - val_accuracy: 0.8056\n",
            "Epoch 2/5\n",
            "213/213 [==============================] - 2s 11ms/step - loss: 0.4197 - accuracy: 0.8128 - val_loss: 0.4246 - val_accuracy: 0.8095\n",
            "Epoch 3/5\n",
            "213/213 [==============================] - 2s 11ms/step - loss: 0.4050 - accuracy: 0.8208 - val_loss: 0.4228 - val_accuracy: 0.8228\n",
            "Epoch 4/5\n",
            "213/213 [==============================] - 2s 11ms/step - loss: 0.3960 - accuracy: 0.8258 - val_loss: 0.4250 - val_accuracy: 0.8135\n",
            "Epoch 5/5\n",
            "213/213 [==============================] - 2s 11ms/step - loss: 0.3885 - accuracy: 0.8275 - val_loss: 0.4273 - val_accuracy: 0.8135\n"
          ],
          "name": "stdout"
        },
        {
          "output_type": "execute_result",
          "data": {
            "text/plain": [
              "<tensorflow.python.keras.callbacks.History at 0x7f6314328510>"
            ]
          },
          "metadata": {
            "tags": []
          },
          "execution_count": 94
        }
      ]
    },
    {
      "cell_type": "code",
      "metadata": {
        "colab": {
          "base_uri": "https://localhost:8080/"
        },
        "id": "zxTcNBpxRysr",
        "outputId": "dc54838d-4635-4703-98d4-28b006fc8708"
      },
      "source": [
        "model4.evaluate(X_test,y_test)"
      ],
      "execution_count": 95,
      "outputs": [
        {
          "output_type": "stream",
          "text": [
            "24/24 [==============================] - 0s 9ms/step - loss: 0.4273 - accuracy: 0.8135\n"
          ],
          "name": "stdout"
        },
        {
          "output_type": "execute_result",
          "data": {
            "text/plain": [
              "[0.4273218512535095, 0.8134920597076416]"
            ]
          },
          "metadata": {
            "tags": []
          },
          "execution_count": 95
        }
      ]
    },
    {
      "cell_type": "code",
      "metadata": {
        "id": "2w8tk3-HR7-v"
      },
      "source": [
        "pred_y =tf.squeeze(tf.round(model4.predict(test_csv_text)))"
      ],
      "execution_count": 108,
      "outputs": []
    },
    {
      "cell_type": "code",
      "metadata": {
        "id": "W-7__g-MT41a"
      },
      "source": [
        "pred_y = tf.cast(pred_y, dtype=tf.int32)"
      ],
      "execution_count": 112,
      "outputs": []
    },
    {
      "cell_type": "code",
      "metadata": {
        "id": "IXh4RlNDUHTf"
      },
      "source": [
        "sub = pd.DataFrame({\n",
        "              'id':test_csv['id'],\n",
        "              'target':pred_y\n",
        "            })"
      ],
      "execution_count": 113,
      "outputs": []
    },
    {
      "cell_type": "code",
      "metadata": {
        "colab": {
          "base_uri": "https://localhost:8080/",
          "height": 204
        },
        "id": "KPcYxRnpVtQz",
        "outputId": "7d3ea2b3-d1c6-4530-e9be-f6698a70c784"
      },
      "source": [
        "sub.head()"
      ],
      "execution_count": 114,
      "outputs": [
        {
          "output_type": "execute_result",
          "data": {
            "text/html": [
              "<div>\n",
              "<style scoped>\n",
              "    .dataframe tbody tr th:only-of-type {\n",
              "        vertical-align: middle;\n",
              "    }\n",
              "\n",
              "    .dataframe tbody tr th {\n",
              "        vertical-align: top;\n",
              "    }\n",
              "\n",
              "    .dataframe thead th {\n",
              "        text-align: right;\n",
              "    }\n",
              "</style>\n",
              "<table border=\"1\" class=\"dataframe\">\n",
              "  <thead>\n",
              "    <tr style=\"text-align: right;\">\n",
              "      <th></th>\n",
              "      <th>id</th>\n",
              "      <th>target</th>\n",
              "    </tr>\n",
              "  </thead>\n",
              "  <tbody>\n",
              "    <tr>\n",
              "      <th>0</th>\n",
              "      <td>0</td>\n",
              "      <td>1</td>\n",
              "    </tr>\n",
              "    <tr>\n",
              "      <th>1</th>\n",
              "      <td>2</td>\n",
              "      <td>1</td>\n",
              "    </tr>\n",
              "    <tr>\n",
              "      <th>2</th>\n",
              "      <td>3</td>\n",
              "      <td>1</td>\n",
              "    </tr>\n",
              "    <tr>\n",
              "      <th>3</th>\n",
              "      <td>9</td>\n",
              "      <td>1</td>\n",
              "    </tr>\n",
              "    <tr>\n",
              "      <th>4</th>\n",
              "      <td>11</td>\n",
              "      <td>1</td>\n",
              "    </tr>\n",
              "  </tbody>\n",
              "</table>\n",
              "</div>"
            ],
            "text/plain": [
              "   id  target\n",
              "0   0       1\n",
              "1   2       1\n",
              "2   3       1\n",
              "3   9       1\n",
              "4  11       1"
            ]
          },
          "metadata": {
            "tags": []
          },
          "execution_count": 114
        }
      ]
    },
    {
      "cell_type": "code",
      "metadata": {
        "id": "-xbBDnMBVutz"
      },
      "source": [
        "sub.to_csv('sub3.csv',index=False)"
      ],
      "execution_count": 115,
      "outputs": []
    }
  ]
}